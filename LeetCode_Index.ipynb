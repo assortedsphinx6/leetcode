{
 "cells": [
  {
   "cell_type": "markdown",
   "id": "87b6ac3d",
   "metadata": {},
   "source": [
    "# 🧠 LeetCode Solutions Index\n",
    "*Auto-generated from subfolders.*"
   ]
  },
  {
   "cell_type": "markdown",
   "id": "c71a9996",
   "metadata": {},
   "source": [
    "## 🧩 1-two-sum\n",
    "[README](1-two-sum/README.md)  |  [Solution](1-two-sum/two-sum.py)"
   ]
  },
  {
   "cell_type": "code",
   "execution_count": null,
   "id": "8e7b6af6",
   "metadata": {},
   "outputs": [],
   "source": [
    "# Preview of 1-two-sum/two-sum.py\n",
    "class Solution:\n",
    "    def twoSum(self, nums: list[int], target: int) -> list[int]:\n",
    "        seen = {}\n",
    "        for i, num in enumerate(nums):\n",
    "            complement = target - num\n",
    "            if complement in seen:\n",
    "                return [seen[complement], i]\n",
    "            seen[num] = i\n"
   ]
  },
  {
   "cell_type": "markdown",
   "id": "dca6bd38",
   "metadata": {},
   "source": [
    "## 🧩 1126-minimum-cost-to-connect-sticks\n",
    "[README](1126-minimum-cost-to-connect-sticks/README.md)  |  [Solution](1126-minimum-cost-to-connect-sticks/minimum-cost-to-connect-sticks.py)"
   ]
  },
  {
   "cell_type": "code",
   "execution_count": null,
   "id": "2701aa75",
   "metadata": {},
   "outputs": [],
   "source": [
    "# Preview of 1126-minimum-cost-to-connect-sticks/minimum-cost-to-connect-sticks.py\n",
    "import heapq\n",
    "from typing import List\n",
    "\n",
    "class Solution:\n",
    "    def connectSticks(self, sticks: List[int]) -> int:\n",
    "        if len(sticks) <= 1:\n",
    "            return 0\n",
    "\n",
    "        heapq.heapify(sticks)  # turn into min-heap\n",
    "        cost = 0\n",
    "\n",
    "        while len(sticks) > 1:\n",
    "            x = heapq.heappop(sticks)\n",
    "            y = heapq.heappop(sticks)\n",
    "            new = x + y\n",
    "            cost += new\n",
    "            heapq.heappush(sticks, new)\n",
    "\n",
    "        return cost"
   ]
  },
  {
   "cell_type": "markdown",
   "id": "065f81a6",
   "metadata": {},
   "source": [
    "## 🧩 121-best-time-to-buy-and-sell-stock\n",
    "[README](121-best-time-to-buy-and-sell-stock/README.md)  |  [Solution](121-best-time-to-buy-and-sell-stock/best-time-to-buy-and-sell-stock.py)"
   ]
  },
  {
   "cell_type": "code",
   "execution_count": null,
   "id": "690132ee",
   "metadata": {},
   "outputs": [],
   "source": [
    "# Preview of 121-best-time-to-buy-and-sell-stock/best-time-to-buy-and-sell-stock.py\n",
    "class Solution:\n",
    "    def maxProfit(self, prices: List[int]) -> int:\n",
    "        if not prices:\n",
    "            return 0\n",
    "        \n",
    "        min_seen: float = math.inf\n",
    "        max_profit: int = 0\n",
    "\n",
    "        for price in prices:\n",
    "            if price < min_seen:\n",
    "                min_seen = price\n",
    "            elif price - min_seen > max_profit:\n",
    "                max_profit = price - min_seen\n",
    "        \n",
    "        return max_profit\n",
    "        \n",
    "\n",
    "            \n",
    "\n",
    "        "
   ]
  },
  {
   "cell_type": "markdown",
   "id": "eb0d5433",
   "metadata": {},
   "source": [
    "## 🧩 1353-find-resultant-array-after-removing-anagrams\n",
    "[README](1353-find-resultant-array-after-removing-anagrams/README.md)  |  [Solution](1353-find-resultant-array-after-removing-anagrams/find-resultant-array-after-removing-anagrams.py)"
   ]
  },
  {
   "cell_type": "code",
   "execution_count": null,
   "id": "7f31b6fb",
   "metadata": {},
   "outputs": [],
   "source": [
    "# Preview of 1353-find-resultant-array-after-removing-anagrams/find-resultant-array-after-removing-anagrams.py\n",
    "class Solution:        \n",
    "    def removeAnagrams(self, words: List[str]) -> List[str]:\n",
    "        ans = [words[0]]\n",
    "        for i in range(1, len(words)):\n",
    "            if sorted(words[i-1]) != sorted(words[i]):\n",
    "                ans.append(words[i])\n",
    "        \n",
    "        return ans\n",
    "\n",
    "        \n"
   ]
  },
  {
   "cell_type": "markdown",
   "id": "764fc050",
   "metadata": {},
   "source": [
    "## 🧩 1358-find-positive-integer-solution-for-a-given-equation\n",
    "[README](1358-find-positive-integer-solution-for-a-given-equation/README.md)  |  [Solution](1358-find-positive-integer-solution-for-a-given-equation/find-positive-integer-solution-for-a-given-equation.py)"
   ]
  },
  {
   "cell_type": "code",
   "execution_count": null,
   "id": "00247c26",
   "metadata": {},
   "outputs": [],
   "source": [
    "# Preview of 1358-find-positive-integer-solution-for-a-given-equation/find-positive-integer-solution-for-a-given-equation.py\n",
    "\"\"\"\n",
    "   This is the custom function interface.\n",
    "   You should not implement it, or speculate about its implementation\n",
    "   class CustomFunction:\n",
    "       # Returns f(x, y) for any given positive integers x and y.\n",
    "       # Note that f(x, y) is increasing with respect to both x and y.\n",
    "       # i.e. f(x, y) < f(x + 1, y), f(x, y) < f(x, y + 1)\n",
    "       def f(self, x, y):\n",
    "  \n",
    "\"\"\"\n",
    "\n",
    "class Solution:\n",
    "    def findSolution(self, customfunction: 'CustomFunction', z: int) -> List[List[int]]:\n",
    "        ans = []\n",
    "        x_i, x_j = 1, 1000\n",
    "\n",
    "        while x_i <= x_j:\n",
    "            y_i, y_j = 1, 1000\n",
    "            while y_i <= y_j:\n",
    "                mid = (y_i + y_j)//2\n",
    "                val = customfunction.f(x_i, mid)\n",
    "                if val == z:\n",
    "                    ans.append([x_i, mid])\n",
    "                    break\n",
    "                if val < z :\n",
    "                    y_i = mid + 1\n",
    "                else:\n",
    "                    y_j = mid - 1\n",
    "                \n",
    "            x_i += 1\n",
    "        return ans\n",
    "                    "
   ]
  },
  {
   "cell_type": "markdown",
   "id": "118e3aaf",
   "metadata": {},
   "source": [
    "## 🧩 146-lru-cache\n",
    "[README](146-lru-cache/README.md)  |  [Solution](146-lru-cache/lru-cache.py)"
   ]
  },
  {
   "cell_type": "code",
   "execution_count": null,
   "id": "08be619e",
   "metadata": {},
   "outputs": [],
   "source": [
    "# Preview of 146-lru-cache/lru-cache.py\n",
    "from collections import OrderedDict\n",
    "\n",
    "class LRUCache:\n",
    "    def __init__(self, capacity: int):\n",
    "        self.capacity = capacity\n",
    "        self.cache = OrderedDict()\n",
    "\n",
    "    def get(self, key: int) -> int:\n",
    "        if key not in self.cache:\n",
    "            return -1\n",
    "        # mark key as recently used\n",
    "        self.cache.move_to_end(key)\n",
    "        return self.cache[key]\n",
    "\n",
    "    def put(self, key: int, value: int) -> None:\n",
    "        # update if exists\n",
    "        if key in self.cache:\n",
    "            self.cache.move_to_end(key)\n",
    "            self.cache[key] = value\n",
    "        self.cache[key] = value\n",
    "        # evict least recently used\n",
    "        if len(self.cache) > self.capacity:\n",
    "            self.cache.popitem(last=False)"
   ]
  },
  {
   "cell_type": "markdown",
   "id": "a29d92a9",
   "metadata": {},
   "source": [
    "## 🧩 1469-minimum-number-of-steps-to-make-two-strings-anagram\n",
    "[README](1469-minimum-number-of-steps-to-make-two-strings-anagram/README.md)  |  [Solution](1469-minimum-number-of-steps-to-make-two-strings-anagram/minimum-number-of-steps-to-make-two-strings-anagram.py)"
   ]
  },
  {
   "cell_type": "code",
   "execution_count": null,
   "id": "63433a11",
   "metadata": {},
   "outputs": [],
   "source": [
    "# Preview of 1469-minimum-number-of-steps-to-make-two-strings-anagram/minimum-number-of-steps-to-make-two-strings-anagram.py\n",
    "from collections import Counter\n",
    "\n",
    "class Solution:\n",
    "    def minSteps(self, s: str, t: str) -> int:\n",
    "        return sum((Counter(s) - Counter(t)).values())"
   ]
  },
  {
   "cell_type": "markdown",
   "id": "be7403f7",
   "metadata": {},
   "source": [
    "## 🧩 1657-find-the-winner-of-an-array-game\n",
    "[README](1657-find-the-winner-of-an-array-game/README.md)  |  [Solution](1657-find-the-winner-of-an-array-game/find-the-winner-of-an-array-game.py)"
   ]
  },
  {
   "cell_type": "code",
   "execution_count": null,
   "id": "dbcb8bfa",
   "metadata": {},
   "outputs": [],
   "source": [
    "# Preview of 1657-find-the-winner-of-an-array-game/find-the-winner-of-an-array-game.py\n",
    "class Solution:\n",
    "    def getWinner(self, arr: List[int], k: int) -> int:\n",
    "        if k >= len(arr)-1:\n",
    "            return max(arr)\n",
    "\n",
    "        champion = arr[0]\n",
    "        win_streak=0\n",
    "\n",
    "        for i in range(1,len(arr)):\n",
    "            if arr[i] > champion:\n",
    "                champion = arr[i]\n",
    "                win_streak=1\n",
    "            else:\n",
    "                win_streak+=1\n",
    "            if win_streak ==k:\n",
    "                return champion\n",
    "        return champion"
   ]
  },
  {
   "cell_type": "markdown",
   "id": "16bc5c69",
   "metadata": {},
   "source": [
    "## 🧩 2037-count-square-sum-triples\n",
    "[README](2037-count-square-sum-triples/README.md)  |  [Solution](2037-count-square-sum-triples/count-square-sum-triples.py)"
   ]
  },
  {
   "cell_type": "code",
   "execution_count": null,
   "id": "cd75a203",
   "metadata": {},
   "outputs": [],
   "source": [
    "# Preview of 2037-count-square-sum-triples/count-square-sum-triples.py\n",
    "from math import isqrt\n",
    "class Solution:\n",
    "    def countTriples(self, n: int) -> int:\n",
    "        count = 0\n",
    "        for a in range(1,n+1):\n",
    "            aa = a*a\n",
    "            for b in range(a+1, n+1): # ensure a<b\n",
    "                s = aa + b*b\n",
    "                c = isqrt(s)\n",
    "                if c<=n and c*c == s:\n",
    "                    count += 1\n",
    "        return count * 2\n",
    "\n",
    "# a can never equal b since a^2 + a^2 = 2a^2, therefore c = a*root(2) which is irrational"
   ]
  },
  {
   "cell_type": "markdown",
   "id": "970e8a1f",
   "metadata": {},
   "source": [
    "## 🧩 2088-minimum-time-to-type-word-using-special-typewriter\n",
    "[README](2088-minimum-time-to-type-word-using-special-typewriter/README.md)  |  [Solution](2088-minimum-time-to-type-word-using-special-typewriter/minimum-time-to-type-word-using-special-typewriter.py)"
   ]
  },
  {
   "cell_type": "code",
   "execution_count": null,
   "id": "b2871d6a",
   "metadata": {},
   "outputs": [],
   "source": [
    "# Preview of 2088-minimum-time-to-type-word-using-special-typewriter/minimum-time-to-type-word-using-special-typewriter.py\n",
    "class Solution:\n",
    "    def minTimeToType(self, word: str) -> int:\n",
    "        time = 0\n",
    "        curr = 'a'\n",
    "        for ch in word:\n",
    "            diff = abs(ord(ch) - ord(curr))\n",
    "            time += min(diff, 26 - diff) + 1\n",
    "            curr = ch\n",
    "        return time"
   ]
  },
  {
   "cell_type": "markdown",
   "id": "da083783",
   "metadata": {},
   "source": [
    "## 🧩 2331-intersection-of-multiple-arrays\n",
    "[README](2331-intersection-of-multiple-arrays/README.md)  |  [Solution](2331-intersection-of-multiple-arrays/intersection-of-multiple-arrays.py)"
   ]
  },
  {
   "cell_type": "code",
   "execution_count": null,
   "id": "81d53561",
   "metadata": {},
   "outputs": [],
   "source": [
    "# Preview of 2331-intersection-of-multiple-arrays/intersection-of-multiple-arrays.py\n",
    "class Solution:\n",
    "    def intersection(self, nums: List[List[int]]) -> List[int]:\n",
    "        f=set(nums[0])\n",
    "\n",
    "        for i in nums[1:]:\n",
    "            f=f.intersection(i)\n",
    "\n",
    "        a=list(f)\n",
    "        a.sort()\n",
    "        return a\n",
    "                "
   ]
  },
  {
   "cell_type": "markdown",
   "id": "86c83186",
   "metadata": {},
   "source": [
    "## 🧩 2358-number-of-ways-to-split-array\n",
    "[README](2358-number-of-ways-to-split-array/README.md)  |  [Solution](2358-number-of-ways-to-split-array/number-of-ways-to-split-array.py)"
   ]
  },
  {
   "cell_type": "code",
   "execution_count": null,
   "id": "d433c568",
   "metadata": {},
   "outputs": [],
   "source": [
    "# Preview of 2358-number-of-ways-to-split-array/number-of-ways-to-split-array.py\n",
    "class Solution:\n",
    "    def waysToSplitArray(self, nums: List[int]) -> int:\n",
    "        total = sum(nums)\n",
    "        pref = 0\n",
    "        ans = 0\n",
    "        # i goes only to n-2 so right side stays non-empty\n",
    "        for i in range(len(nums) - 1):\n",
    "            pref += nums[i]\n",
    "            if pref >= total - pref:\n",
    "                ans += 1\n",
    "        return ans"
   ]
  },
  {
   "cell_type": "markdown",
   "id": "496abd82",
   "metadata": {},
   "source": [
    "## 🧩 239-sliding-window-maximum\n",
    "[README](239-sliding-window-maximum/README.md)  |  [Solution](239-sliding-window-maximum/sliding-window-maximum.py)"
   ]
  },
  {
   "cell_type": "code",
   "execution_count": null,
   "id": "bc92e699",
   "metadata": {},
   "outputs": [],
   "source": [
    "# Preview of 239-sliding-window-maximum/sliding-window-maximum.py\n",
    "from collections import deque\n",
    "from typing import List\n",
    "\n",
    "class Solution:\n",
    "    def maxSlidingWindow(self, nums: List[int], k: int) -> List[int]:\n",
    "        n = len(nums)\n",
    "        if k <= 0 or n == 0:\n",
    "            return []\n",
    "        if k == 1:\n",
    "            return nums[:]  # trivial fast path\n",
    "\n",
    "        dq = deque()              # stores indices; nums[dq] is decreasing\n",
    "        out= []\n",
    "        a = nums                  # local binding (micro-opt)\n",
    "\n",
    "        for i, x in enumerate(a):\n",
    "            # pop smaller/equal elements (they can't be max with x in window)\n",
    "            while dq and a[dq[-1]] <= x:\n",
    "                dq.pop()\n",
    "            dq.append(i)\n",
    "\n",
    "            # remove indices that are out of the current window [i-k+1, i]\n",
    "            if dq[0] <= i - k:\n",
    "                dq.popleft()\n",
    "\n",
    "            # record max when window has k elements\n",
    "            if i >= k - 1:\n",
    "                out.append(a[dq[0]])\n",
    "\n",
    "        return out"
   ]
  },
  {
   "cell_type": "markdown",
   "id": "c428e900",
   "metadata": {},
   "source": [
    "## 🧩 2491-smallest-even-multiple\n",
    "[README](2491-smallest-even-multiple/README.md)  |  [Solution](2491-smallest-even-multiple/smallest-even-multiple.py)"
   ]
  },
  {
   "cell_type": "code",
   "execution_count": null,
   "id": "0935bb91",
   "metadata": {},
   "outputs": [],
   "source": [
    "# Preview of 2491-smallest-even-multiple/smallest-even-multiple.py\n",
    "class Solution:\n",
    "    def smallestEvenMultiple(self, n: int) -> int:\n",
    "        if n%2==0:\n",
    "            return n\n",
    "        return n*2\n"
   ]
  },
  {
   "cell_type": "markdown",
   "id": "181dc5ce",
   "metadata": {},
   "source": [
    "## 🧩 253-meeting-rooms-ii\n",
    "[README](253-meeting-rooms-ii/README.md)  |  [Solution](253-meeting-rooms-ii/meeting-rooms-ii.py)"
   ]
  },
  {
   "cell_type": "code",
   "execution_count": null,
   "id": "8f03beb4",
   "metadata": {},
   "outputs": [],
   "source": [
    "# Preview of 253-meeting-rooms-ii/meeting-rooms-ii.py\n",
    "import heapq\n",
    "\n",
    "class Solution:\n",
    "    def minMeetingRooms(self, intervals: List[List[int]]) -> int:\n",
    "        if not intervals:\n",
    "            return 0\n",
    "        \n",
    "        # sort by start time\n",
    "        intervals.sort(key=lambda x: x[0])\n",
    "        \n",
    "        # min-heap for end times\n",
    "        heap = []\n",
    "        heapq.heappush(heap, intervals[0][1])\n",
    "        \n",
    "        for i in range(1, len(intervals)):\n",
    "            # if the current meeting starts after the earliest one ends, reuse the room\n",
    "            if intervals[i][0] >= heap[0]:\n",
    "                heapq.heappop(heap)\n",
    "            # push the current meeting’s end time\n",
    "            heapq.heappush(heap, intervals[i][1])\n",
    "        \n",
    "        # the heap size = number of rooms used simultaneously\n",
    "        return len(heap)"
   ]
  },
  {
   "cell_type": "markdown",
   "id": "bb04cc12",
   "metadata": {},
   "source": [
    "## 🧩 2581-divide-players-into-teams-of-equal-skill\n",
    "[README](2581-divide-players-into-teams-of-equal-skill/README.md)  |  [Solution](2581-divide-players-into-teams-of-equal-skill/divide-players-into-teams-of-equal-skill.py)"
   ]
  },
  {
   "cell_type": "code",
   "execution_count": null,
   "id": "d10dbbf3",
   "metadata": {},
   "outputs": [],
   "source": [
    "# Preview of 2581-divide-players-into-teams-of-equal-skill/divide-players-into-teams-of-equal-skill.py\n",
    "class Solution:\n",
    "    def dividePlayers(self, skill: List[int]) -> int:\n",
    "        skill.sort()\n",
    "        l, r = 0, len(skill) - 1\n",
    "        target = skill[l] + skill[r]\n",
    "        chem = 0\n",
    "\n",
    "        while l < r:\n",
    "            if skill[l] + skill[r] != target:\n",
    "                return -1\n",
    "            chem += skill[l] * skill[r]\n",
    "            l += 1\n",
    "            r -= 1\n",
    "        return chem\n",
    "\n",
    "            \n"
   ]
  },
  {
   "cell_type": "markdown",
   "id": "c3ba3b04",
   "metadata": {},
   "source": [
    "## 🧩 3-longest-substring-without-repeating-characters\n",
    "[README](3-longest-substring-without-repeating-characters/README.md)  |  [Solution](3-longest-substring-without-repeating-characters/longest-substring-without-repeating-characters.py)"
   ]
  },
  {
   "cell_type": "code",
   "execution_count": null,
   "id": "2c9e49cc",
   "metadata": {},
   "outputs": [],
   "source": [
    "# Preview of 3-longest-substring-without-repeating-characters/longest-substring-without-repeating-characters.py\n",
    "class Solution:\n",
    "    def lengthOfLongestSubstring(self, s: str) -> int:\n",
    "        last = [-1] * 128\n",
    "        left = 0\n",
    "        best = 0\n",
    "\n",
    "        for i, ch in enumerate(s):\n",
    "            j = ord(ch)\n",
    "            if last[j] >= left:\n",
    "                left = last[j] + 1\n",
    "            last[j] = i\n",
    "            cur = i - left + 1\n",
    "            if cur > best:\n",
    "                best = cur\n",
    "        return best"
   ]
  },
  {
   "cell_type": "markdown",
   "id": "310be180",
   "metadata": {},
   "source": [
    "## 🧩 3383-taking-maximum-energy-from-the-mystic-dungeon\n",
    "[README](3383-taking-maximum-energy-from-the-mystic-dungeon/README.md)  |  [Solution](3383-taking-maximum-energy-from-the-mystic-dungeon/taking-maximum-energy-from-the-mystic-dungeon.py)"
   ]
  },
  {
   "cell_type": "code",
   "execution_count": null,
   "id": "aecd2c19",
   "metadata": {},
   "outputs": [],
   "source": [
    "# Preview of 3383-taking-maximum-energy-from-the-mystic-dungeon/taking-maximum-energy-from-the-mystic-dungeon.py\n",
    "class Solution:\n",
    "    def maximumEnergy(self, energy: List[int], k: int) -> int:\n",
    "        dp = [0] * len(energy)\n",
    "        for i in range(len(dp)-1,-1,-1):\n",
    "            if i + k < len(dp):\n",
    "                dp[i] = dp[i+k] + energy[i]\n",
    "            else:\n",
    "                dp[i] = energy[i]\n",
    "        return max(dp)"
   ]
  },
  {
   "cell_type": "markdown",
   "id": "21930900",
   "metadata": {},
   "source": [
    "## 🧩 384-shuffle-an-array\n",
    "[README](384-shuffle-an-array/README.md)  |  [Solution](384-shuffle-an-array/shuffle-an-array.py)"
   ]
  },
  {
   "cell_type": "code",
   "execution_count": null,
   "id": "18ef0f3c",
   "metadata": {},
   "outputs": [],
   "source": [
    "# Preview of 384-shuffle-an-array/shuffle-an-array.py\n",
    "import random\n",
    "class Solution:\n",
    "\n",
    "    def __init__(self, nums: List[int]):\n",
    "        self.nums = nums\n",
    "        self.shuffled = self.nums[:]\n",
    "\n",
    "    def reset(self) -> List[int]:\n",
    "        return self.nums\n",
    "\n",
    "    def shuffle(self) -> List[int]:\n",
    "        random.shuffle(self.shuffled)\n",
    "        return self.shuffled\n",
    "\n",
    "# Your Solution object will be instantiated and called as such:\n",
    "# obj = Solution(nums)\n",
    "# param_1 = obj.reset()\n",
    "# param_2 = obj.shuffle()"
   ]
  },
  {
   "cell_type": "markdown",
   "id": "4d34ae4f",
   "metadata": {},
   "source": [
    "## 🧩 414-third-maximum-number\n",
    "[README](414-third-maximum-number/README.md)  |  [Solution](414-third-maximum-number/third-maximum-number.py)"
   ]
  },
  {
   "cell_type": "code",
   "execution_count": null,
   "id": "5e1831b5",
   "metadata": {},
   "outputs": [],
   "source": [
    "# Preview of 414-third-maximum-number/third-maximum-number.py\n",
    "class Solution:\n",
    "    def thirdMax(self, nums: List[int]) -> int:\n",
    "        a=b=c=None\n",
    "        for x in nums:\n",
    "            if x==a or x==b or x==c:\n",
    "                continue\n",
    "            if a is None or x>a:\n",
    "                a,b,c = x,a,b\n",
    "            elif b is None or x>b:\n",
    "                b,c = x,b\n",
    "            elif c is None or x>c:\n",
    "                c=x\n",
    "        return c if c is not None else a\n",
    "\n",
    "        "
   ]
  },
  {
   "cell_type": "markdown",
   "id": "cecacdb8",
   "metadata": {},
   "source": [
    "## 🧩 476-number-complement\n",
    "[README](476-number-complement/README.md)  |  [Solution](476-number-complement/number-complement.py)"
   ]
  },
  {
   "cell_type": "code",
   "execution_count": null,
   "id": "51969f8f",
   "metadata": {},
   "outputs": [],
   "source": [
    "# Preview of 476-number-complement/number-complement.py\n",
    "class Solution:\n",
    "    def findComplement(self, num: int) -> int:\n",
    "        # create a mask with all 1's covering the bits of num\n",
    "        mask = (1 << num.bit_length()) - 1\n",
    "        return num ^ mask\n",
    "        "
   ]
  },
  {
   "cell_type": "markdown",
   "id": "9b90333b",
   "metadata": {},
   "source": [
    "## 🧩 48-rotate-image\n",
    "[README](48-rotate-image/README.md)  |  [Solution](48-rotate-image/rotate-image.py)"
   ]
  },
  {
   "cell_type": "code",
   "execution_count": null,
   "id": "27e55cac",
   "metadata": {},
   "outputs": [],
   "source": [
    "# Preview of 48-rotate-image/rotate-image.py\n",
    "class Solution:\n",
    "    def rotate(self, matrix: List[List[int]]) -> None:\n",
    "        \"\"\"\n",
    "        Do not return anything, modify matrix in-place instead.\n",
    "        \"\"\"\n",
    "        # transpose\n",
    "        for i in range(len(matrix)):\n",
    "            for j in range(i+1, len(matrix)):\n",
    "                matrix[i][j], matrix[j][i] = matrix[j][i], matrix[i][j]\n",
    "        for row in matrix:\n",
    "            row.reverse()"
   ]
  },
  {
   "cell_type": "markdown",
   "id": "ef2d85b0",
   "metadata": {},
   "source": [
    "## 🧩 49-group-anagrams\n",
    "[README](49-group-anagrams/README.md)  |  [Solution](49-group-anagrams/group-anagrams.py)"
   ]
  },
  {
   "cell_type": "code",
   "execution_count": null,
   "id": "5d70122b",
   "metadata": {},
   "outputs": [],
   "source": [
    "# Preview of 49-group-anagrams/group-anagrams.py\n",
    "class Solution:\n",
    "    def groupAnagrams(self, strs: List[str]) -> List[List[str]]:\n",
    "        dict = {}\n",
    "        for word in strs:\n",
    "            sorted_word = \"\".join(sorted(word))\n",
    "            if sorted_word in dict:\n",
    "                dict[sorted_word].append(word)\n",
    "            else:\n",
    "                dict[sorted_word] = [word]\n",
    "        return list(dict.values())"
   ]
  },
  {
   "cell_type": "markdown",
   "id": "41fe0dda",
   "metadata": {},
   "source": [
    "## 🧩 696-count-binary-substrings\n",
    "[README](696-count-binary-substrings/README.md)  |  [Solution](696-count-binary-substrings/count-binary-substrings.py)"
   ]
  },
  {
   "cell_type": "code",
   "execution_count": null,
   "id": "4fe32f13",
   "metadata": {},
   "outputs": [],
   "source": [
    "# Preview of 696-count-binary-substrings/count-binary-substrings.py\n",
    "class Solution:\n",
    "    def countBinarySubstrings(self, s: str) -> int:\n",
    "        ans, prev, curr = 0, 0, 1\n",
    "        for i in range(1, len(s)):\n",
    "            if s[i] != s[i-1]:\n",
    "                ans += min(prev, curr)\n",
    "                prev = curr\n",
    "                curr = 1\n",
    "            else:\n",
    "                curr += 1\n",
    "        ans += min(prev, curr)\n",
    "        return ans"
   ]
  },
  {
   "cell_type": "markdown",
   "id": "7ec26fa6",
   "metadata": {},
   "source": [
    "## 🧩 73-set-matrix-zeroes\n",
    "[README](73-set-matrix-zeroes/README.md)  |  [Solution](73-set-matrix-zeroes/set-matrix-zeroes.py)"
   ]
  },
  {
   "cell_type": "code",
   "execution_count": null,
   "id": "ada5d845",
   "metadata": {},
   "outputs": [],
   "source": [
    "# Preview of 73-set-matrix-zeroes/set-matrix-zeroes.py\n",
    "class Solution:\n",
    "    def setZeroes(self, matrix: List[List[int]]) -> None:\n",
    "        \"\"\"\n",
    "        Do not return anything, modify matrix in-place instead.\n",
    "        \"\"\"\n",
    "        zeros = []\n",
    "        for i in range(len(matrix)):\n",
    "            for j in range(len(matrix[0])):\n",
    "                if matrix[i][j] == 0:\n",
    "                    zeros.append([i,j])\n",
    "\n",
    "        for zero in zeros:\n",
    "            matrix[zero[0]] = [0] * len(matrix[0])\n",
    "            for i in range(len(matrix)):\n",
    "                matrix[i][zero[1]] = 0      "
   ]
  },
  {
   "cell_type": "markdown",
   "id": "a07eb5e1",
   "metadata": {},
   "source": [
    "## 🧩 9-palindrome-number\n",
    "[README](9-palindrome-number/README.md)  |  [Solution](9-palindrome-number/palindrome-number.py)"
   ]
  },
  {
   "cell_type": "code",
   "execution_count": null,
   "id": "ea3125d6",
   "metadata": {},
   "outputs": [],
   "source": [
    "# Preview of 9-palindrome-number/palindrome-number.py\n",
    "class Solution:\n",
    "    def isPalindrome(self, x: int) -> bool:\n",
    "        if x < 0:\n",
    "            return False\n",
    "        return str(x) == str(x)[::-1]"
   ]
  }
 ],
 "metadata": {},
 "nbformat": 4,
 "nbformat_minor": 5
}
